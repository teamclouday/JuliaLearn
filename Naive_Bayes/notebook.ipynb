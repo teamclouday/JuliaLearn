{
 "cells": [
  {
   "cell_type": "markdown",
   "metadata": {},
   "source": [
    "# Naive Bayes  \n",
    "[Reference 1](https://en.wikipedia.org/wiki/Naive_Bayes_classifier)  \n",
    "[Reference 2](https://scikit-learn.org/stable/modules/naive_bayes.html)"
   ]
  },
  {
   "cell_type": "markdown",
   "metadata": {},
   "source": [
    "Bayes' theorem:\n",
    "$$P(y|x_1,...,x_n)=\\frac{P(y)P(x_1,...,x_n|y)}{P(x_1,...,x_n)}$$\n",
    "\n",
    "Classification:\n",
    "$$\\hat{y}=\\text{arg}\\max_yP(y)\\prod^n_{i=1}P(x_i|y)$$\n",
    "\n",
    "Guassian Likelihood:  \n",
    "$$P(x_i|y)=\\frac{1}{\\sqrt{2\\pi\\sigma^2_{x_i,y}}}\\exp\\Bigg(-\\frac{(x_i-\\mu_{x_i,y})^2}{2\\sigma^2_{x_i,y}}\\Bigg)$$  \n",
    "where $\\sigma_y$ and $\\mu_y$ are estimated with maximum likelihood"
   ]
  },
  {
   "cell_type": "code",
   "execution_count": 1,
   "metadata": {},
   "outputs": [],
   "source": [
    "include(\"../tools.jl\")\n",
    "import .JuTools"
   ]
  },
  {
   "cell_type": "code",
   "execution_count": 2,
   "metadata": {},
   "outputs": [
    {
     "name": "stdout",
     "output_type": "stream",
     "text": [
      "(1000, 2)\n",
      "(1000,)\n"
     ]
    }
   ],
   "source": [
    "X_data, Y_data = JuTools.data_generate_cluster_2d(pos1=(30.0, 80.0), pos2=(80.0, 30.0),\n",
    "    radius1=5.0, radius2=10.0, random_scale=8.0, data_size=1000)\n",
    "println(size(X_data))\n",
    "println(size(Y_data))"
   ]
  },
  {
   "cell_type": "code",
   "execution_count": 3,
   "metadata": {},
   "outputs": [],
   "source": [
    "mutable struct NaiveBayes\n",
    "    n_features::Integer\n",
    "    pY::Dict{Number,AbstractFloat}\n",
    "    mean::Dict{Number,Array{AbstractFloat}}\n",
    "    var::Dict{Number,Array{AbstractFloat}}\n",
    "end"
   ]
  },
  {
   "cell_type": "code",
   "execution_count": 4,
   "metadata": {},
   "outputs": [
    {
     "data": {
      "text/plain": [
       "train (generic function with 1 method)"
      ]
     },
     "execution_count": 4,
     "metadata": {},
     "output_type": "execute_result"
    }
   ],
   "source": [
    "function train(X_data::Array{T} where T<:Number, Y_data::Array{K} where K<:Number)::NaiveBayes\n",
    "    @assert ndims(X_data) == ndims(Y_data) + 1\n",
    "    @assert size(X_data)[1] == size(Y_data)[1]\n",
    "    n_features = size(X_data)[2]\n",
    "    # compute probability of Y\n",
    "    pY = Dict{Number,AbstractFloat}()\n",
    "    for Y_val in Y_data\n",
    "        if haskey(pY, Y_val)\n",
    "            pY[Y_val] += 1.0\n",
    "        else\n",
    "            pY[Y_val] = 1.0\n",
    "        end\n",
    "    end\n",
    "    for Y_val in keys(pY)\n",
    "        pY[Y_val] /= size(Y_data)[1]\n",
    "    end\n",
    "    # compute Xi mean and var for each Y\n",
    "    mean = Dict{Number,Array{AbstractFloat}}()\n",
    "    var = Dict{Number,Array{AbstractFloat}}()\n",
    "    for Y_val in keys(pY)\n",
    "        X_part = X_data[Y_data .== Y_val, :]\n",
    "        mean[Y_val] = vec(sum(X_part, dims=1) ./ size(X_part)[1])\n",
    "        var[Y_val] = vec(sum((X_part .- reshape(mean[Y_val], 1, :)).^2, dims=1) ./ size(X_part)[1])\n",
    "    end\n",
    "    return NaiveBayes(n_features, pY, mean, var)\n",
    "end"
   ]
  },
  {
   "cell_type": "code",
   "execution_count": 5,
   "metadata": {},
   "outputs": [
    {
     "data": {
      "text/plain": [
       "guassian (generic function with 1 method)"
      ]
     },
     "execution_count": 5,
     "metadata": {},
     "output_type": "execute_result"
    }
   ],
   "source": [
    "function guassian(X_vec::Array, mean::Array, var::Array)::AbstractFloat\n",
    "    @assert ndims(X_vec) == ndims(mean) == ndims(var) == 1\n",
    "    @assert length(X_vec) == length(mean) == length(var)\n",
    "    left = 1.0 ./ sqrt.((2.0 * pi) .* var)\n",
    "    right = exp.(-(X_vec .- mean).^2 ./ (2.0 .* var))\n",
    "    p = left .* right\n",
    "    return prod(p)\n",
    "end"
   ]
  },
  {
   "cell_type": "code",
   "execution_count": 6,
   "metadata": {},
   "outputs": [
    {
     "data": {
      "text/plain": [
       "predict (generic function with 1 method)"
      ]
     },
     "execution_count": 6,
     "metadata": {},
     "output_type": "execute_result"
    }
   ],
   "source": [
    "function predict(X_data::Array{T} where T<:Number, data::NaiveBayes)::Array\n",
    "    if ndims(X_data) == 1\n",
    "        X_data = reshape(X_data, 1, :)\n",
    "    end\n",
    "    @assert ndims(X_data) == 2\n",
    "    @assert size(X_data)[2] == data.n_features\n",
    "    prediction = Array{Number}(undef, size(X_data)[1])\n",
    "    for i in 1:size(X_data)[1]\n",
    "        X_vec = X_data[i, :]\n",
    "        Y_dict = Dict{Number,AbstractFloat}()\n",
    "        for Y_val in keys(data.pY)\n",
    "            Y_dict[Y_val] = data.pY[Y_val] * guassian(X_vec, data.mean[Y_val], data.var[Y_val])\n",
    "        end\n",
    "        prediction[i] = sort(collect(Y_dict), by=m->m[2], rev=true)[1][1]\n",
    "    end\n",
    "    return prediction\n",
    "end"
   ]
  },
  {
   "cell_type": "code",
   "execution_count": 7,
   "metadata": {},
   "outputs": [
    {
     "data": {
      "text/plain": [
       "NaiveBayes(2, Dict{Number,AbstractFloat}(0.0 => 0.5,1.0 => 0.5), Dict{Number,Array{AbstractFloat,N} where N}(0.0 => [79.84792331838256, 29.869030821103415],1.0 => [30.14427317034883, 80.01324929089203]), Dict{Number,Array{AbstractFloat,N} where N}(0.0 => [96.14132273795053, 95.86748826325143],1.0 => [72.82706756596316, 72.45081287824333]))"
      ]
     },
     "execution_count": 7,
     "metadata": {},
     "output_type": "execute_result"
    }
   ],
   "source": [
    "trained = train(X_data, Y_data)"
   ]
  },
  {
   "cell_type": "code",
   "execution_count": 8,
   "metadata": {},
   "outputs": [
    {
     "data": {
      "text/plain": [
       "1000-element Array{Number,1}:\n",
       " 1.0\n",
       " 0.0\n",
       " 0.0\n",
       " 1.0\n",
       " 1.0\n",
       " 1.0\n",
       " 0.0\n",
       " 1.0\n",
       " 1.0\n",
       " 0.0\n",
       " 1.0\n",
       " 1.0\n",
       " 0.0\n",
       " ⋮\n",
       " 0.0\n",
       " 0.0\n",
       " 1.0\n",
       " 1.0\n",
       " 0.0\n",
       " 1.0\n",
       " 1.0\n",
       " 1.0\n",
       " 1.0\n",
       " 0.0\n",
       " 1.0\n",
       " 0.0"
      ]
     },
     "execution_count": 8,
     "metadata": {},
     "output_type": "execute_result"
    }
   ],
   "source": [
    "prediction = predict(X_data, trained)"
   ]
  },
  {
   "cell_type": "code",
   "execution_count": 9,
   "metadata": {},
   "outputs": [
    {
     "data": {
      "text/plain": [
       "1.0"
      ]
     },
     "execution_count": 9,
     "metadata": {},
     "output_type": "execute_result"
    }
   ],
   "source": [
    "JuTools.compute_accuracy(prediction, Y_data)"
   ]
  }
 ],
 "metadata": {
  "kernelspec": {
   "display_name": "Julia 1.5.1",
   "language": "julia",
   "name": "julia-1.5"
  },
  "language_info": {
   "file_extension": ".jl",
   "mimetype": "application/julia",
   "name": "julia",
   "version": "1.5.1"
  }
 },
 "nbformat": 4,
 "nbformat_minor": 4
}
