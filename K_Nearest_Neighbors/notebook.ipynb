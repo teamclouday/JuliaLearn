{
 "cells": [
  {
   "cell_type": "markdown",
   "metadata": {},
   "source": [
    "# K Nearest Neighbors"
   ]
  },
  {
   "cell_type": "markdown",
   "metadata": {},
   "source": [
    "[Reference 1](https://scikit-learn.org/stable/modules/neighbors.html)  \n",
    "[Reference 2](https://en.wikipedia.org/wiki/Nearest_neighbor_search)  \n",
    "[Reference 3](https://booking.ai/k-nearest-neighbours-from-slow-to-fast-thanks-to-maths-bec682357ccd)\n",
    "\n",
    "### Naive Approach  \n",
    "No transforming on original dataset (No training)  \n",
    "For prediction, iter through the original dataset, and find the nearest K data, by a given metrics  \n",
    "\n",
    "Can use euclidean distance:\n",
    "$$\\text{dist}(X_1, X_2) = \\|X_1 - X_2\\|$$\n",
    "\n",
    "A better approach is cosine similarity:\n",
    "$$\\text{sim}(X_1, X_2) = \\frac{X_1 \\cdot X_2}{\\|X_1\\| \\|X_2\\|}$$\n",
    "which computes the cos value between two vectors  \n",
    "1 for 0 degree, and less than 1 for $(0, \\pi]$"
   ]
  },
  {
   "cell_type": "code",
   "execution_count": 1,
   "metadata": {},
   "outputs": [],
   "source": [
    "include(\"../tools.jl\")\n",
    "import .JuTools"
   ]
  },
  {
   "cell_type": "code",
   "execution_count": 2,
   "metadata": {},
   "outputs": [],
   "source": [
    "import Statistics\n",
    "import Random\n",
    "import LinearAlgebra"
   ]
  },
  {
   "cell_type": "code",
   "execution_count": 3,
   "metadata": {},
   "outputs": [
    {
     "data": {
      "text/plain": [
       "cosine_sim (generic function with 1 method)"
      ]
     },
     "execution_count": 3,
     "metadata": {},
     "output_type": "execute_result"
    }
   ],
   "source": [
    "function cosine_sim(X1::Array{T} where T<:Number, X2::Array{T} where T<:Number)::AbstractFloat\n",
    "    @assert size(X1) == size(X2)\n",
    "    @assert ndims(X1) == ndims(X2) == 1\n",
    "    product = LinearAlgebra.dot(X1, X2)\n",
    "    X1_norm = LinearAlgebra.norm(X1, 2)\n",
    "    X2_norm = LinearAlgebra.norm(X2, 2)\n",
    "    return product / (X1_norm * X2_norm)\n",
    "end"
   ]
  },
  {
   "cell_type": "code",
   "execution_count": 4,
   "metadata": {},
   "outputs": [
    {
     "name": "stdout",
     "output_type": "stream",
     "text": [
      "(1000, 2)\n",
      "(1000,)\n"
     ]
    }
   ],
   "source": [
    "X_data, Y_data = JuTools.data_generate_linear_2d()\n",
    "println(size(X_data))\n",
    "println(size(Y_data))"
   ]
  },
  {
   "cell_type": "code",
   "execution_count": 5,
   "metadata": {},
   "outputs": [
    {
     "data": {
      "text/plain": [
       "2×2 Array{Float64,2}:\n",
       " 75.3  91.3\n",
       "  3.4  38.5"
      ]
     },
     "execution_count": 5,
     "metadata": {},
     "output_type": "execute_result"
    }
   ],
   "source": [
    "X_data[1:2, :]"
   ]
  },
  {
   "cell_type": "code",
   "execution_count": 6,
   "metadata": {},
   "outputs": [
    {
     "data": {
      "text/plain": [
       "0.8244479883848689"
      ]
     },
     "execution_count": 6,
     "metadata": {},
     "output_type": "execute_result"
    }
   ],
   "source": [
    "cosine_sim(X_data[1, :], X_data[2, :])"
   ]
  },
  {
   "cell_type": "code",
   "execution_count": 7,
   "metadata": {},
   "outputs": [
    {
     "data": {
      "text/plain": [
       "0.8140504040179221"
      ]
     },
     "execution_count": 7,
     "metadata": {},
     "output_type": "execute_result"
    }
   ],
   "source": [
    "cosine_sim(X_data[1, :], X_data[3, :])"
   ]
  },
  {
   "cell_type": "code",
   "execution_count": 8,
   "metadata": {},
   "outputs": [
    {
     "data": {
      "text/plain": [
       "majority_vote (generic function with 1 method)"
      ]
     },
     "execution_count": 8,
     "metadata": {},
     "output_type": "execute_result"
    }
   ],
   "source": [
    "# define majority vote function\n",
    "function majority_vote(y::Array{T} where T<:Number)::Number\n",
    "    @assert ndims(y) == 1\n",
    "    unique_votes = Dict{Number, Integer}()\n",
    "    for y_val in y\n",
    "        if !haskey(unique_votes, y_val)\n",
    "            push!(unique_votes, y_val => 1)\n",
    "        else\n",
    "            unique_votes[y_val] += 1\n",
    "        end\n",
    "    end\n",
    "    result = sort(collect(unique_votes), by=m->m[2])\n",
    "    return result[end][1]\n",
    "end"
   ]
  },
  {
   "cell_type": "code",
   "execution_count": 9,
   "metadata": {},
   "outputs": [
    {
     "data": {
      "text/plain": [
       "1"
      ]
     },
     "execution_count": 9,
     "metadata": {},
     "output_type": "execute_result"
    }
   ],
   "source": [
    "majority_vote([1,1,0])"
   ]
  },
  {
   "cell_type": "markdown",
   "metadata": {},
   "source": [
    "Output ordering is affected by input ordering"
   ]
  },
  {
   "cell_type": "code",
   "execution_count": 10,
   "metadata": {},
   "outputs": [
    {
     "data": {
      "text/plain": [
       "1"
      ]
     },
     "execution_count": 10,
     "metadata": {},
     "output_type": "execute_result"
    }
   ],
   "source": [
    "majority_vote([1,1,0,0])"
   ]
  },
  {
   "cell_type": "code",
   "execution_count": 11,
   "metadata": {},
   "outputs": [
    {
     "data": {
      "text/plain": [
       "0"
      ]
     },
     "execution_count": 11,
     "metadata": {},
     "output_type": "execute_result"
    }
   ],
   "source": [
    "majority_vote([1,1,0,0,0])"
   ]
  },
  {
   "cell_type": "code",
   "execution_count": 12,
   "metadata": {},
   "outputs": [
    {
     "name": "stdout",
     "output_type": "stream",
     "text": [
      "(700, 2)\n",
      "(300, 2)\n",
      "(700,)\n",
      "(300,)\n"
     ]
    }
   ],
   "source": [
    "X_train, X_test, Y_train, Y_test = JuTools.split_data(X_data, Y_data, shuffle=true, ratio=0.3)\n",
    "println(size(X_train))\n",
    "println(size(X_test))\n",
    "println(size(Y_train))\n",
    "println(size(Y_test))"
   ]
  },
  {
   "cell_type": "code",
   "execution_count": 17,
   "metadata": {},
   "outputs": [
    {
     "data": {
      "text/plain": [
       "predict_naive (generic function with 1 method)"
      ]
     },
     "execution_count": 17,
     "metadata": {},
     "output_type": "execute_result"
    }
   ],
   "source": [
    "# define predict function, naive approach\n",
    "function predict_naive(X_predict::Array{T} where T<:Number, K::Integer, X_data::Array{T} where T<:Number, Y_data::Array{T} where T<:Number)::Array\n",
    "    @assert ndims(X_data) == 2\n",
    "    @assert ndims(Y_data) == 1\n",
    "    @assert size(X_data)[1] == size(Y_data)[1]\n",
    "    @assert 0 < ndims(X_predict) <= 2\n",
    "    @assert 0 < K < size(X_data)[1]\n",
    "    if ndims(X_predict) < 2\n",
    "        X_predict = reshape(X_predict, (1, size(X_predict)[1]))\n",
    "    end\n",
    "    @assert size(X_predict)[2] == size(X_data)[2]\n",
    "    result = Array{Number}(undef, size(X_predict)[1])\n",
    "    sim = Array{Tuple{Integer, AbstractFloat}}(undef, size(X_data)[1])\n",
    "    for i in 1:size(X_predict)[1]\n",
    "        vec_predict = X_predict[i, :]\n",
    "        for j in 1:size(X_data)[1]\n",
    "            vec_data = X_data[j, :]\n",
    "            vec_similarity = cosine_sim(vec_predict, vec_data)\n",
    "            sim[j] = (j, vec_similarity)\n",
    "        end\n",
    "        sort!(sim, by=m->m[2], rev=true)\n",
    "        K_nearest_votes = Y_data[[m[1] for m in sim[1:K]]]\n",
    "        result[i] = majority_vote(K_nearest_votes)\n",
    "    end\n",
    "    return result\n",
    "end"
   ]
  },
  {
   "cell_type": "code",
   "execution_count": 18,
   "metadata": {},
   "outputs": [
    {
     "data": {
      "text/plain": [
       "300-element Array{Number,1}:\n",
       " 1.0\n",
       " 0.0\n",
       " 1.0\n",
       " 1.0\n",
       " 0.0\n",
       " 1.0\n",
       " 0.0\n",
       " 0.0\n",
       " 1.0\n",
       " 1.0\n",
       " 0.0\n",
       " 1.0\n",
       " 1.0\n",
       " ⋮\n",
       " 0.0\n",
       " 0.0\n",
       " 0.0\n",
       " 1.0\n",
       " 0.0\n",
       " 1.0\n",
       " 1.0\n",
       " 1.0\n",
       " 1.0\n",
       " 1.0\n",
       " 0.0\n",
       " 1.0"
      ]
     },
     "execution_count": 18,
     "metadata": {},
     "output_type": "execute_result"
    }
   ],
   "source": [
    "Y_predict = predict_naive(X_test, 5, X_train, Y_train)"
   ]
  },
  {
   "cell_type": "code",
   "execution_count": 19,
   "metadata": {},
   "outputs": [
    {
     "data": {
      "text/plain": [
       "0.9433333333333334"
      ]
     },
     "execution_count": 19,
     "metadata": {},
     "output_type": "execute_result"
    }
   ],
   "source": [
    "JuTools.compute_accuracy(Y_predict, Y_test)"
   ]
  },
  {
   "cell_type": "code",
   "execution_count": 20,
   "metadata": {},
   "outputs": [
    {
     "data": {
      "text/plain": [
       "dist_sim (generic function with 1 method)"
      ]
     },
     "execution_count": 20,
     "metadata": {},
     "output_type": "execute_result"
    }
   ],
   "source": [
    "# what about dist similarity?\n",
    "function dist_sim(X1::Array{T} where T<:Number, X2::Array{T} where T<:Number)::AbstractFloat\n",
    "    @assert size(X1) == size(X2)\n",
    "    @assert ndims(X1) == ndims(X2) == 1\n",
    "    return sqrt(sum((X1 .- X2).^2))\n",
    "end"
   ]
  },
  {
   "cell_type": "code",
   "execution_count": 21,
   "metadata": {},
   "outputs": [
    {
     "data": {
      "text/plain": [
       "89.20454024319613"
      ]
     },
     "execution_count": 21,
     "metadata": {},
     "output_type": "execute_result"
    }
   ],
   "source": [
    "dist_sim(X_data[1, :], X_data[2, :])"
   ]
  },
  {
   "cell_type": "code",
   "execution_count": 22,
   "metadata": {},
   "outputs": [
    {
     "data": {
      "text/plain": [
       "55.791845282263246"
      ]
     },
     "execution_count": 22,
     "metadata": {},
     "output_type": "execute_result"
    }
   ],
   "source": [
    "dist_sim(X_data[2, :], X_data[3, :])"
   ]
  },
  {
   "cell_type": "markdown",
   "metadata": {},
   "source": [
    "It's greatly affected by the scale of data!"
   ]
  },
  {
   "cell_type": "code",
   "execution_count": 23,
   "metadata": {},
   "outputs": [
    {
     "data": {
      "text/plain": [
       "predict_naive_fun (generic function with 1 method)"
      ]
     },
     "execution_count": 23,
     "metadata": {},
     "output_type": "execute_result"
    }
   ],
   "source": [
    "function predict_naive_fun(X_predict::Array{T} where T<:Number, K::Integer, X_data::Array{T} where T<:Number, Y_data::Array{T} where T<:Number)::Array\n",
    "    @assert ndims(X_data) == 2\n",
    "    @assert ndims(Y_data) == 1\n",
    "    @assert size(X_data)[1] == size(Y_data)[1]\n",
    "    @assert 0 < ndims(X_predict) <= 2\n",
    "    @assert 0 < K < size(X_data)[1]\n",
    "    if ndims(X_predict) < 2\n",
    "        X_predict = reshape(X_predict, (1, size(X_predict)[1]))\n",
    "    end\n",
    "    @assert size(X_predict)[2] == size(X_data)[2]\n",
    "    result = Array{Number}(undef, size(X_predict)[1])\n",
    "    sim = Array{Tuple{Integer, AbstractFloat}}(undef, size(X_data)[1])\n",
    "    for i in 1:size(X_predict)[1]\n",
    "        vec_predict = X_predict[i, :]\n",
    "        for j in 1:size(X_data)[1]\n",
    "            vec_data = X_data[j, :]\n",
    "            vec_similarity = dist_sim(vec_predict, vec_data)\n",
    "            sim[j] = (j, vec_similarity)\n",
    "        end\n",
    "        sort!(sim, by=m->m[2])\n",
    "        K_nearest_votes = Y_data[[m[1] for m in sim[1:K]]]\n",
    "        result[i] = majority_vote(K_nearest_votes)\n",
    "    end\n",
    "    return result\n",
    "end"
   ]
  },
  {
   "cell_type": "code",
   "execution_count": 24,
   "metadata": {},
   "outputs": [
    {
     "data": {
      "text/plain": [
       "0.95"
      ]
     },
     "execution_count": 24,
     "metadata": {},
     "output_type": "execute_result"
    }
   ],
   "source": [
    "JuTools.compute_accuracy(predict_naive_fun(X_test, 5, X_train, Y_train), Y_test)"
   ]
  },
  {
   "cell_type": "markdown",
   "metadata": {},
   "source": [
    "It produces better score because X_data has 2 dimensions, which is best fit for computing euclidean distance  \n",
    "Eventually we'll be using cosine similarity in implementation"
   ]
  },
  {
   "cell_type": "markdown",
   "metadata": {},
   "source": [
    "Although it (`predict_naive`) may be slow on large dataset, it is easy to implement and it works as expected"
   ]
  }
 ],
 "metadata": {
  "kernelspec": {
   "display_name": "Julia 1.5.1",
   "language": "julia",
   "name": "julia-1.5"
  },
  "language_info": {
   "file_extension": ".jl",
   "mimetype": "application/julia",
   "name": "julia",
   "version": "1.5.1"
  }
 },
 "nbformat": 4,
 "nbformat_minor": 4
}
